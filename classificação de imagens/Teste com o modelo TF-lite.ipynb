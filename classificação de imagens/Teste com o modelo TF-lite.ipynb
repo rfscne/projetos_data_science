{
 "cells": [
  {
   "cell_type": "code",
   "execution_count": 97,
   "id": "d3586e2e",
   "metadata": {},
   "outputs": [],
   "source": [
    "from keras_image_helper import create_preprocessor"
   ]
  },
  {
   "cell_type": "code",
   "execution_count": null,
   "id": "8c953e9c",
   "metadata": {},
   "outputs": [],
   "source": []
  },
  {
   "cell_type": "code",
   "execution_count": 98,
   "id": "ccdc83de",
   "metadata": {},
   "outputs": [],
   "source": [
    "preprocessor = create_preprocessor('xception', target_size=(299, 299))"
   ]
  },
  {
   "cell_type": "code",
   "execution_count": 99,
   "id": "923b0ab6",
   "metadata": {},
   "outputs": [],
   "source": [
    "image_url = 'http://bit.ly/mlbookcamp-pants'\n",
    "X = preprocessor.from_url(image_url)"
   ]
  },
  {
   "cell_type": "code",
   "execution_count": 100,
   "id": "cc41453e",
   "metadata": {},
   "outputs": [
    {
     "data": {
      "text/plain": [
       "(1, 299, 299, 3)"
      ]
     },
     "execution_count": 100,
     "metadata": {},
     "output_type": "execute_result"
    }
   ],
   "source": [
    "X.shape"
   ]
  },
  {
   "cell_type": "markdown",
   "id": "dc273b6a",
   "metadata": {},
   "source": [
    "Carregar o modelo TF-lite"
   ]
  },
  {
   "cell_type": "code",
   "execution_count": 101,
   "id": "9a749927",
   "metadata": {},
   "outputs": [],
   "source": [
    "# import tensorflow.lite as tflite # this also works locally, but it won't work in Lambda\n",
    "import tflite_runtime.interpreter as tflite"
   ]
  },
  {
   "cell_type": "code",
   "execution_count": 102,
   "id": "fb0ae619",
   "metadata": {},
   "outputs": [],
   "source": [
    "interpreter = tflite.Interpreter(model_path='clothing-model-v4.tflite')\n",
    "interpreter.allocate_tensors()"
   ]
  },
  {
   "cell_type": "markdown",
   "id": "34da795a",
   "metadata": {},
   "source": [
    "Obter input e output para o modelo"
   ]
  },
  {
   "cell_type": "code",
   "execution_count": 103,
   "id": "4129475c",
   "metadata": {},
   "outputs": [],
   "source": [
    "input_details = interpreter.get_input_details()\n",
    "input_index = input_details[0]['index']\n",
    "\n",
    "output_details = interpreter.get_output_details()\n",
    "output_index = output_details[0]['index']"
   ]
  },
  {
   "cell_type": "markdown",
   "id": "97c418f1",
   "metadata": {},
   "source": [
    "Fazer as predições"
   ]
  },
  {
   "cell_type": "code",
   "execution_count": 104,
   "id": "4f9be5da",
   "metadata": {},
   "outputs": [],
   "source": [
    "interpreter.set_tensor(input_index, X)\n",
    "interpreter.invoke()\n",
    "\n",
    "preds = interpreter.get_tensor(output_index)"
   ]
  },
  {
   "cell_type": "code",
   "execution_count": 105,
   "id": "62588984",
   "metadata": {},
   "outputs": [
    {
     "data": {
      "text/plain": [
       "array([[-2.7505138, -7.379528 , -3.3370004, -2.192554 , 11.735571 ,\n",
       "        -1.9947194, -4.611516 ,  2.0626066, -4.420448 , -5.00238  ]],\n",
       "      dtype=float32)"
      ]
     },
     "execution_count": 105,
     "metadata": {},
     "output_type": "execute_result"
    }
   ],
   "source": [
    "preds # contém as predições"
   ]
  },
  {
   "cell_type": "code",
   "execution_count": 106,
   "id": "a4a5dec9",
   "metadata": {},
   "outputs": [],
   "source": [
    "labels = [\n",
    "    'dress',\n",
    "    'hat',\n",
    "    'longsleeve',\n",
    "    'outwear',\n",
    "    'pants',\n",
    "    'shirt',\n",
    "    'shoes',\n",
    "    'shorts',\n",
    "    'skirt',\n",
    "    't-shirt'\n",
    "]"
   ]
  },
  {
   "cell_type": "code",
   "execution_count": 107,
   "id": "5156b729",
   "metadata": {
    "scrolled": true
   },
   "outputs": [
    {
     "data": {
      "text/plain": [
       "{'dress': -2.7505138,\n",
       " 'hat': -7.379528,\n",
       " 'longsleeve': -3.3370004,\n",
       " 'outwear': -2.192554,\n",
       " 'pants': 11.735571,\n",
       " 'shirt': -1.9947194,\n",
       " 'shoes': -4.611516,\n",
       " 'shorts': 2.0626066,\n",
       " 'skirt': -4.420448,\n",
       " 't-shirt': -5.00238}"
      ]
     },
     "execution_count": 107,
     "metadata": {},
     "output_type": "execute_result"
    }
   ],
   "source": [
    "results = dict(zip(labels, preds[0]))\n",
    "results"
   ]
  },
  {
   "cell_type": "code",
   "execution_count": 108,
   "id": "29ade049",
   "metadata": {},
   "outputs": [
    {
     "name": "stdout",
     "output_type": "stream",
     "text": [
      "pants\n"
     ]
    }
   ],
   "source": [
    "valor_maximo = max(results, key = results.get)\n",
    "print(valor_maximo)"
   ]
  },
  {
   "cell_type": "code",
   "execution_count": null,
   "id": "6c140a01",
   "metadata": {},
   "outputs": [],
   "source": []
  },
  {
   "cell_type": "code",
   "execution_count": null,
   "id": "22eb85ad",
   "metadata": {},
   "outputs": [],
   "source": []
  },
  {
   "cell_type": "code",
   "execution_count": null,
   "id": "8fdacc7f",
   "metadata": {},
   "outputs": [],
   "source": []
  },
  {
   "cell_type": "code",
   "execution_count": null,
   "id": "098d1392",
   "metadata": {},
   "outputs": [],
   "source": []
  }
 ],
 "metadata": {
  "kernelspec": {
   "display_name": "Python 3 (ipykernel)",
   "language": "python",
   "name": "python3"
  },
  "language_info": {
   "codemirror_mode": {
    "name": "ipython",
    "version": 3
   },
   "file_extension": ".py",
   "mimetype": "text/x-python",
   "name": "python",
   "nbconvert_exporter": "python",
   "pygments_lexer": "ipython3",
   "version": "3.9.7"
  }
 },
 "nbformat": 4,
 "nbformat_minor": 5
}
