{
 "cells": [
  {
   "cell_type": "code",
   "execution_count": 22,
   "id": "b238ee3d",
   "metadata": {},
   "outputs": [
    {
     "name": "stdout",
     "output_type": "stream",
     "text": [
      "{'dress': -2.7471563816070557, 'hat': -7.365764617919922, 'longsleeve': -3.3857064247131348, 'outwear': -2.222595453262329, 'pants': 11.744759559631348, 'shirt': -1.9906989336013794, 'shoes': -4.6016950607299805, 'shorts': 2.102787971496582, 'skirt': -4.430754661560059, 't-shirt': -5.018328666687012}\n"
     ]
    }
   ],
   "source": [
    "import requests\n",
    "data = { \n",
    " \"url\": \"http://bit.ly/mlbookcamp-pants\"\n",
    "}\n",
    "url = \"http://localhost:8080/2015-03-31/functions/function/invocations\" \n",
    "results = requests.post(url, json=data).json() \n",
    "print(results) \n",
    "\n",
    "#labels{results[0].argmax()}"
   ]
  },
  {
   "cell_type": "code",
   "execution_count": 20,
   "id": "6ecbf56c",
   "metadata": {},
   "outputs": [
    {
     "name": "stdout",
     "output_type": "stream",
     "text": [
      "pants\n"
     ]
    }
   ],
   "source": [
    "valor_maximo = max(results, key = results.get)\n",
    "print(valor_maximo)"
   ]
  },
  {
   "cell_type": "code",
   "execution_count": null,
   "id": "828fe253",
   "metadata": {},
   "outputs": [],
   "source": []
  }
 ],
 "metadata": {
  "kernelspec": {
   "display_name": "Python 3 (ipykernel)",
   "language": "python",
   "name": "python3"
  },
  "language_info": {
   "codemirror_mode": {
    "name": "ipython",
    "version": 3
   },
   "file_extension": ".py",
   "mimetype": "text/x-python",
   "name": "python",
   "nbconvert_exporter": "python",
   "pygments_lexer": "ipython3",
   "version": "3.9.7"
  }
 },
 "nbformat": 4,
 "nbformat_minor": 5
}
